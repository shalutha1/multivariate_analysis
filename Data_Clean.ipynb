{
 "cells": [
  {
   "cell_type": "code",
   "execution_count": 31,
   "id": "38cbdd0b-e20a-4bd1-b7fa-595dfa4f8975",
   "metadata": {},
   "outputs": [],
   "source": [
    "#Import libries\n",
    "\n",
    "import numpy as np\n",
    "import pandas as pd"
   ]
  },
  {
   "cell_type": "code",
   "execution_count": 45,
   "id": "7fcbfba4-1c45-4464-a4ad-9805e200f302",
   "metadata": {},
   "outputs": [],
   "source": [
    "#Import data set\n",
    "\n",
    "data = pd.read_csv(\"heart_disease.csv\")"
   ]
  },
  {
   "cell_type": "code",
   "execution_count": 49,
   "id": "49a03e4c-f277-4c00-85b7-49b3146aebf1",
   "metadata": {},
   "outputs": [
    {
     "data": {
      "text/html": [
       "<div>\n",
       "<style scoped>\n",
       "    .dataframe tbody tr th:only-of-type {\n",
       "        vertical-align: middle;\n",
       "    }\n",
       "\n",
       "    .dataframe tbody tr th {\n",
       "        vertical-align: top;\n",
       "    }\n",
       "\n",
       "    .dataframe thead th {\n",
       "        text-align: right;\n",
       "    }\n",
       "</style>\n",
       "<table border=\"1\" class=\"dataframe\">\n",
       "  <thead>\n",
       "    <tr style=\"text-align: right;\">\n",
       "      <th></th>\n",
       "      <th>Age</th>\n",
       "      <th>Gender</th>\n",
       "      <th>Blood Pressure</th>\n",
       "      <th>Cholesterol Level</th>\n",
       "      <th>Exercise Habits</th>\n",
       "      <th>Smoking</th>\n",
       "      <th>Family Heart Disease</th>\n",
       "      <th>Diabetes</th>\n",
       "      <th>BMI</th>\n",
       "      <th>High Blood Pressure</th>\n",
       "      <th>...</th>\n",
       "      <th>High LDL Cholesterol</th>\n",
       "      <th>Alcohol Consumption</th>\n",
       "      <th>Stress Level</th>\n",
       "      <th>Sleep Hours</th>\n",
       "      <th>Sugar Consumption</th>\n",
       "      <th>Triglyceride Level</th>\n",
       "      <th>Fasting Blood Sugar</th>\n",
       "      <th>CRP Level</th>\n",
       "      <th>Homocysteine Level</th>\n",
       "      <th>Heart Disease Status</th>\n",
       "    </tr>\n",
       "  </thead>\n",
       "  <tbody>\n",
       "    <tr>\n",
       "      <th>0</th>\n",
       "      <td>56.0</td>\n",
       "      <td>Male</td>\n",
       "      <td>153.0</td>\n",
       "      <td>155.0</td>\n",
       "      <td>High</td>\n",
       "      <td>Yes</td>\n",
       "      <td>Yes</td>\n",
       "      <td>No</td>\n",
       "      <td>24.991591</td>\n",
       "      <td>Yes</td>\n",
       "      <td>...</td>\n",
       "      <td>No</td>\n",
       "      <td>High</td>\n",
       "      <td>Medium</td>\n",
       "      <td>7.633228</td>\n",
       "      <td>Medium</td>\n",
       "      <td>342.0</td>\n",
       "      <td>NaN</td>\n",
       "      <td>12.969246</td>\n",
       "      <td>12.387250</td>\n",
       "      <td>No</td>\n",
       "    </tr>\n",
       "    <tr>\n",
       "      <th>1</th>\n",
       "      <td>69.0</td>\n",
       "      <td>Female</td>\n",
       "      <td>146.0</td>\n",
       "      <td>286.0</td>\n",
       "      <td>High</td>\n",
       "      <td>No</td>\n",
       "      <td>Yes</td>\n",
       "      <td>Yes</td>\n",
       "      <td>25.221799</td>\n",
       "      <td>No</td>\n",
       "      <td>...</td>\n",
       "      <td>No</td>\n",
       "      <td>Medium</td>\n",
       "      <td>High</td>\n",
       "      <td>8.744034</td>\n",
       "      <td>Medium</td>\n",
       "      <td>133.0</td>\n",
       "      <td>157.0</td>\n",
       "      <td>9.355389</td>\n",
       "      <td>19.298875</td>\n",
       "      <td>No</td>\n",
       "    </tr>\n",
       "    <tr>\n",
       "      <th>2</th>\n",
       "      <td>46.0</td>\n",
       "      <td>Male</td>\n",
       "      <td>126.0</td>\n",
       "      <td>216.0</td>\n",
       "      <td>Low</td>\n",
       "      <td>No</td>\n",
       "      <td>No</td>\n",
       "      <td>No</td>\n",
       "      <td>29.855447</td>\n",
       "      <td>No</td>\n",
       "      <td>...</td>\n",
       "      <td>Yes</td>\n",
       "      <td>Low</td>\n",
       "      <td>Low</td>\n",
       "      <td>4.440440</td>\n",
       "      <td>Low</td>\n",
       "      <td>393.0</td>\n",
       "      <td>92.0</td>\n",
       "      <td>12.709873</td>\n",
       "      <td>11.230926</td>\n",
       "      <td>No</td>\n",
       "    </tr>\n",
       "    <tr>\n",
       "      <th>3</th>\n",
       "      <td>32.0</td>\n",
       "      <td>Female</td>\n",
       "      <td>122.0</td>\n",
       "      <td>293.0</td>\n",
       "      <td>High</td>\n",
       "      <td>Yes</td>\n",
       "      <td>Yes</td>\n",
       "      <td>No</td>\n",
       "      <td>24.130477</td>\n",
       "      <td>Yes</td>\n",
       "      <td>...</td>\n",
       "      <td>Yes</td>\n",
       "      <td>Low</td>\n",
       "      <td>High</td>\n",
       "      <td>5.249405</td>\n",
       "      <td>High</td>\n",
       "      <td>293.0</td>\n",
       "      <td>94.0</td>\n",
       "      <td>12.509046</td>\n",
       "      <td>5.961958</td>\n",
       "      <td>No</td>\n",
       "    </tr>\n",
       "    <tr>\n",
       "      <th>4</th>\n",
       "      <td>60.0</td>\n",
       "      <td>Male</td>\n",
       "      <td>166.0</td>\n",
       "      <td>242.0</td>\n",
       "      <td>Low</td>\n",
       "      <td>Yes</td>\n",
       "      <td>Yes</td>\n",
       "      <td>Yes</td>\n",
       "      <td>20.486289</td>\n",
       "      <td>Yes</td>\n",
       "      <td>...</td>\n",
       "      <td>No</td>\n",
       "      <td>Low</td>\n",
       "      <td>High</td>\n",
       "      <td>7.030971</td>\n",
       "      <td>High</td>\n",
       "      <td>263.0</td>\n",
       "      <td>154.0</td>\n",
       "      <td>10.381259</td>\n",
       "      <td>8.153887</td>\n",
       "      <td>No</td>\n",
       "    </tr>\n",
       "  </tbody>\n",
       "</table>\n",
       "<p>5 rows × 21 columns</p>\n",
       "</div>"
      ],
      "text/plain": [
       "    Age  Gender  Blood Pressure  Cholesterol Level Exercise Habits Smoking  \\\n",
       "0  56.0    Male           153.0              155.0            High     Yes   \n",
       "1  69.0  Female           146.0              286.0            High      No   \n",
       "2  46.0    Male           126.0              216.0             Low      No   \n",
       "3  32.0  Female           122.0              293.0            High     Yes   \n",
       "4  60.0    Male           166.0              242.0             Low     Yes   \n",
       "\n",
       "  Family Heart Disease Diabetes        BMI High Blood Pressure  ...  \\\n",
       "0                  Yes       No  24.991591                 Yes  ...   \n",
       "1                  Yes      Yes  25.221799                  No  ...   \n",
       "2                   No       No  29.855447                  No  ...   \n",
       "3                  Yes       No  24.130477                 Yes  ...   \n",
       "4                  Yes      Yes  20.486289                 Yes  ...   \n",
       "\n",
       "  High LDL Cholesterol Alcohol Consumption Stress Level Sleep Hours  \\\n",
       "0                   No                High       Medium    7.633228   \n",
       "1                   No              Medium         High    8.744034   \n",
       "2                  Yes                 Low          Low    4.440440   \n",
       "3                  Yes                 Low         High    5.249405   \n",
       "4                   No                 Low         High    7.030971   \n",
       "\n",
       "   Sugar Consumption Triglyceride Level  Fasting Blood Sugar  CRP Level  \\\n",
       "0             Medium              342.0                  NaN  12.969246   \n",
       "1             Medium              133.0                157.0   9.355389   \n",
       "2                Low              393.0                 92.0  12.709873   \n",
       "3               High              293.0                 94.0  12.509046   \n",
       "4               High              263.0                154.0  10.381259   \n",
       "\n",
       "   Homocysteine Level  Heart Disease Status  \n",
       "0           12.387250                    No  \n",
       "1           19.298875                    No  \n",
       "2           11.230926                    No  \n",
       "3            5.961958                    No  \n",
       "4            8.153887                    No  \n",
       "\n",
       "[5 rows x 21 columns]"
      ]
     },
     "execution_count": 49,
     "metadata": {},
     "output_type": "execute_result"
    }
   ],
   "source": [
    "#Load data set\n",
    "\n",
    "data.head()"
   ]
  },
  {
   "cell_type": "code",
   "execution_count": 51,
   "id": "0fcaec4c-fb80-4daa-8ace-838cc5c23ce9",
   "metadata": {},
   "outputs": [
    {
     "data": {
      "text/plain": [
       "(10000, 21)"
      ]
     },
     "execution_count": 51,
     "metadata": {},
     "output_type": "execute_result"
    }
   ],
   "source": [
    "#Check data set shape\n",
    "\n",
    "data.shape"
   ]
  },
  {
   "cell_type": "code",
   "execution_count": 53,
   "id": "3c77b649-3306-46ad-a22d-38152d336cac",
   "metadata": {},
   "outputs": [
    {
     "name": "stdout",
     "output_type": "stream",
     "text": [
      "<class 'pandas.core.frame.DataFrame'>\n",
      "RangeIndex: 10000 entries, 0 to 9999\n",
      "Data columns (total 21 columns):\n",
      " #   Column                Non-Null Count  Dtype  \n",
      "---  ------                --------------  -----  \n",
      " 0   Age                   9971 non-null   float64\n",
      " 1   Gender                9981 non-null   object \n",
      " 2   Blood Pressure        9981 non-null   float64\n",
      " 3   Cholesterol Level     9970 non-null   float64\n",
      " 4   Exercise Habits       9975 non-null   object \n",
      " 5   Smoking               9975 non-null   object \n",
      " 6   Family Heart Disease  9979 non-null   object \n",
      " 7   Diabetes              9970 non-null   object \n",
      " 8   BMI                   9978 non-null   float64\n",
      " 9   High Blood Pressure   9974 non-null   object \n",
      " 10  Low HDL Cholesterol   9975 non-null   object \n",
      " 11  High LDL Cholesterol  9974 non-null   object \n",
      " 12  Alcohol Consumption   7414 non-null   object \n",
      " 13  Stress Level          9978 non-null   object \n",
      " 14  Sleep Hours           9975 non-null   float64\n",
      " 15  Sugar Consumption     9970 non-null   object \n",
      " 16  Triglyceride Level    9974 non-null   float64\n",
      " 17  Fasting Blood Sugar   9978 non-null   float64\n",
      " 18  CRP Level             9974 non-null   float64\n",
      " 19  Homocysteine Level    9980 non-null   float64\n",
      " 20  Heart Disease Status  10000 non-null  object \n",
      "dtypes: float64(9), object(12)\n",
      "memory usage: 1.6+ MB\n"
     ]
    }
   ],
   "source": [
    "data.info()"
   ]
  },
  {
   "cell_type": "code",
   "execution_count": 55,
   "id": "07c42473-6f02-48f8-a2e8-3bb21826dbf7",
   "metadata": {},
   "outputs": [
    {
     "data": {
      "text/plain": [
       "Age                       29\n",
       "Gender                    19\n",
       "Blood Pressure            19\n",
       "Cholesterol Level         30\n",
       "Exercise Habits           25\n",
       "Smoking                   25\n",
       "Family Heart Disease      21\n",
       "Diabetes                  30\n",
       "BMI                       22\n",
       "High Blood Pressure       26\n",
       "Low HDL Cholesterol       25\n",
       "High LDL Cholesterol      26\n",
       "Alcohol Consumption     2586\n",
       "Stress Level              22\n",
       "Sleep Hours               25\n",
       "Sugar Consumption         30\n",
       "Triglyceride Level        26\n",
       "Fasting Blood Sugar       22\n",
       "CRP Level                 26\n",
       "Homocysteine Level        20\n",
       "Heart Disease Status       0\n",
       "dtype: int64"
      ]
     },
     "execution_count": 55,
     "metadata": {},
     "output_type": "execute_result"
    }
   ],
   "source": [
    "#Check null values count\n",
    "\n",
    "data.isnull().sum()"
   ]
  },
  {
   "cell_type": "code",
   "execution_count": 57,
   "id": "af5cf759-1035-4996-b9e2-2ba61fd95f80",
   "metadata": {},
   "outputs": [],
   "source": [
    "#Remove null values\n",
    "\n",
    "data = data.dropna()"
   ]
  },
  {
   "cell_type": "code",
   "execution_count": 59,
   "id": "6615d109-0728-48cf-9464-2beb3f5e1d82",
   "metadata": {},
   "outputs": [
    {
     "data": {
      "text/plain": [
       "Age                     0\n",
       "Gender                  0\n",
       "Blood Pressure          0\n",
       "Cholesterol Level       0\n",
       "Exercise Habits         0\n",
       "Smoking                 0\n",
       "Family Heart Disease    0\n",
       "Diabetes                0\n",
       "BMI                     0\n",
       "High Blood Pressure     0\n",
       "Low HDL Cholesterol     0\n",
       "High LDL Cholesterol    0\n",
       "Alcohol Consumption     0\n",
       "Stress Level            0\n",
       "Sleep Hours             0\n",
       "Sugar Consumption       0\n",
       "Triglyceride Level      0\n",
       "Fasting Blood Sugar     0\n",
       "CRP Level               0\n",
       "Homocysteine Level      0\n",
       "Heart Disease Status    0\n",
       "dtype: int64"
      ]
     },
     "execution_count": 59,
     "metadata": {},
     "output_type": "execute_result"
    }
   ],
   "source": [
    "#After remove null values check again data set have null values\n",
    "\n",
    "data.isnull().sum()"
   ]
  },
  {
   "cell_type": "code",
   "execution_count": 61,
   "id": "b2240371-70e3-423a-8325-32e38921e4e8",
   "metadata": {},
   "outputs": [
    {
     "data": {
      "text/plain": [
       "0"
      ]
     },
     "execution_count": 61,
     "metadata": {},
     "output_type": "execute_result"
    }
   ],
   "source": [
    "# Check duplicate values\n",
    "\n",
    "data.duplicated().sum()"
   ]
  },
  {
   "cell_type": "code",
   "execution_count": 63,
   "id": "53156b39-fb34-4684-8f7c-f0a83c452687",
   "metadata": {},
   "outputs": [
    {
     "data": {
      "text/plain": [
       "(7067, 21)"
      ]
     },
     "execution_count": 63,
     "metadata": {},
     "output_type": "execute_result"
    }
   ],
   "source": [
    "#After remove null values and duplicates new data set shape\n",
    "\n",
    "data.shape"
   ]
  },
  {
   "cell_type": "code",
   "execution_count": 65,
   "id": "fc92a88d-95af-4c8d-ac1b-4838856f7f6b",
   "metadata": {},
   "outputs": [
    {
     "data": {
      "text/plain": [
       "Index(['Age', 'Gender', 'Blood Pressure', 'Cholesterol Level',\n",
       "       'Exercise Habits', 'Smoking', 'Family Heart Disease', 'Diabetes', 'BMI',\n",
       "       'High Blood Pressure', 'Low HDL Cholesterol', 'High LDL Cholesterol',\n",
       "       'Alcohol Consumption', 'Stress Level', 'Sleep Hours',\n",
       "       'Sugar Consumption', 'Triglyceride Level', 'Fasting Blood Sugar',\n",
       "       'CRP Level', 'Homocysteine Level', 'Heart Disease Status'],\n",
       "      dtype='object')"
      ]
     },
     "execution_count": 65,
     "metadata": {},
     "output_type": "execute_result"
    }
   ],
   "source": [
    "data.columns"
   ]
  },
  {
   "cell_type": "code",
   "execution_count": 67,
   "id": "406cb476-5a88-4404-b4ad-44aaf1e645e7",
   "metadata": {},
   "outputs": [
    {
     "name": "stdout",
     "output_type": "stream",
     "text": [
      "Age                    0\n",
      "Blood Pressure         0\n",
      "Cholesterol Level      0\n",
      "BMI                    0\n",
      "Sleep Hours            0\n",
      "Triglyceride Level     0\n",
      "Fasting Blood Sugar    0\n",
      "CRP Level              0\n",
      "Homocysteine Level     0\n",
      "dtype: int64\n"
     ]
    }
   ],
   "source": [
    "# Select only numeric columns\n",
    "numeric_data = data.select_dtypes(include='number')\n",
    "\n",
    "# Calculate IQR\n",
    "Q1 = numeric_data.quantile(0.25)\n",
    "Q3 = numeric_data.quantile(0.75)\n",
    "IQR = Q3 - Q1\n",
    "\n",
    "# Identify outliers\n",
    "outliers = (numeric_data < (Q1 - 1.5 * IQR)) | (numeric_data > (Q3 + 1.5 * IQR))\n",
    "\n",
    "# Print how many outliers each column has\n",
    "print(outliers.sum())"
   ]
  },
  {
   "cell_type": "code",
   "execution_count": 69,
   "id": "9a8e48a7-3312-4675-8f97-5d34df31ce83",
   "metadata": {},
   "outputs": [
    {
     "data": {
      "image/png": "[encoded data removed]",
      "text/plain": [
       "<Figure size 600x100 with 1 Axes>"
      ]
     },
     "metadata": {},
     "output_type": "display_data"
    },
    {
     "data": {
      "image/png": "[encoded data removed]",
      "text/plain": [
       "<Figure size 600x100 with 1 Axes>"
      ]
     },
     "metadata": {},
     "output_type": "display_data"
    },
    {
     "data": {
      "image/png": "[encoded data removed]",
      "text/plain": [
       "<Figure size 600x100 with 1 Axes>"
      ]
     },
     "metadata": {},
     "output_type": "display_data"
    },
    {
     "data": {
      "image/png": "[encoded data removed]",
      "text/plain": [
       "<Figure size 600x100 with 1 Axes>"
      ]
     },
     "metadata": {},
     "output_type": "display_data"
    },
    {
     "data": {
      "image/png": "[encoded data removed]",
      "text/plain": [
       "<Figure size 600x100 with 1 Axes>"
      ]
     },
     "metadata": {},
     "output_type": "display_data"
    },
    {
     "data": {
      "image/png": "[encoded data removed]",
      "text/plain": [
       "<Figure size 600x100 with 1 Axes>"
      ]
     },
     "metadata": {},
     "output_type": "display_data"
    },
    {
     "data": {
      "image/png": "[encoded data removed]",
      "text/plain": [
       "<Figure size 600x100 with 1 Axes>"
      ]
     },
     "metadata": {},
     "output_type": "display_data"
    },
    {
     "data": {
      "image/png": "[encoded data removed]",
      "text/plain": [
       "<Figure size 600x100 with 1 Axes>"
      ]
     },
     "metadata": {},
     "output_type": "display_data"
    },
    {
     "data": {
      "image/png": "[encoded data removed]",
      "text/plain": [
       "<Figure size 600x100 with 1 Axes>"
      ]
     },
     "metadata": {},
     "output_type": "display_data"
    }
   ],
   "source": [
    "import matplotlib.pyplot as plt\n",
    "import seaborn as sns\n",
    "\n",
    "# For each numerical column, plot a boxplot\n",
    "for column in data.select_dtypes(include='number').columns:\n",
    "    plt.figure(figsize=(6, 1))\n",
    "    sns.boxplot(x=data[column])\n",
    "    plt.title(f'Boxplot for {column}')\n",
    "    plt.show()"
   ]
  },
  {
   "cell_type": "markdown",
   "id": "100fce77-6f0c-425f-b5de-1d9d9ff3aac9",
   "metadata": {},
   "source": [
    "### Check value counts in categorical columns and Boolean columns"
   ]
  },
  {
   "cell_type": "code",
   "execution_count": 74,
   "id": "e1e01738-5e61-45c6-be05-d35ce906ca0b",
   "metadata": {},
   "outputs": [
    {
     "data": {
      "text/plain": [
       "Gender\n",
       "Male      3564\n",
       "Female    3503\n",
       "Name: count, dtype: int64"
      ]
     },
     "execution_count": 74,
     "metadata": {},
     "output_type": "execute_result"
    }
   ],
   "source": [
    "data[\"Gender\"].value_counts()"
   ]
  },
  {
   "cell_type": "code",
   "execution_count": 76,
   "id": "d2064cde-642b-4b6b-8e78-9d5597770530",
   "metadata": {},
   "outputs": [
    {
     "data": {
      "text/plain": [
       "Exercise Habits\n",
       "High      2413\n",
       "Medium    2336\n",
       "Low       2318\n",
       "Name: count, dtype: int64"
      ]
     },
     "execution_count": 76,
     "metadata": {},
     "output_type": "execute_result"
    }
   ],
   "source": [
    "data[\"Exercise Habits\"].value_counts()"
   ]
  },
  {
   "cell_type": "code",
   "execution_count": 78,
   "id": "6cf80e01-4ad0-442f-aaa8-4824202198aa",
   "metadata": {},
   "outputs": [
    {
     "data": {
      "text/plain": [
       "Smoking\n",
       "Yes    3634\n",
       "No     3433\n",
       "Name: count, dtype: int64"
      ]
     },
     "execution_count": 78,
     "metadata": {},
     "output_type": "execute_result"
    }
   ],
   "source": [
    "data[\"Smoking\"].value_counts()"
   ]
  },
  {
   "cell_type": "code",
   "execution_count": 80,
   "id": "d4a36e93-26e4-499f-a969-9b5d236a1b85",
   "metadata": {},
   "outputs": [
    {
     "data": {
      "text/plain": [
       "Family Heart Disease\n",
       "No     3540\n",
       "Yes    3527\n",
       "Name: count, dtype: int64"
      ]
     },
     "execution_count": 80,
     "metadata": {},
     "output_type": "execute_result"
    }
   ],
   "source": [
    "data[\"Family Heart Disease\"].value_counts()"
   ]
  },
  {
   "cell_type": "code",
   "execution_count": 82,
   "id": "6e6d2989-e8c5-402a-955c-84352bc09327",
   "metadata": {},
   "outputs": [
    {
     "data": {
      "text/plain": [
       "Diabetes\n",
       "No     3551\n",
       "Yes    3516\n",
       "Name: count, dtype: int64"
      ]
     },
     "execution_count": 82,
     "metadata": {},
     "output_type": "execute_result"
    }
   ],
   "source": [
    "data[\"Diabetes\"].value_counts()"
   ]
  },
  {
   "cell_type": "code",
   "execution_count": 84,
   "id": "05d3282a-aac1-49a9-921b-f70da6d55242",
   "metadata": {},
   "outputs": [
    {
     "data": {
      "text/plain": [
       "High Blood Pressure\n",
       "Yes    3561\n",
       "No     3506\n",
       "Name: count, dtype: int64"
      ]
     },
     "execution_count": 84,
     "metadata": {},
     "output_type": "execute_result"
    }
   ],
   "source": [
    "data[\"High Blood Pressure\"].value_counts()"
   ]
  },
  {
   "cell_type": "code",
   "execution_count": 86,
   "id": "c1e1011e-1458-45ca-aa79-c7fcc0500d72",
   "metadata": {},
   "outputs": [
    {
     "data": {
      "text/plain": [
       "Low HDL Cholesterol\n",
       "Yes    3540\n",
       "No     3527\n",
       "Name: count, dtype: int64"
      ]
     },
     "execution_count": 86,
     "metadata": {},
     "output_type": "execute_result"
    }
   ],
   "source": [
    "data[\"Low HDL Cholesterol\"].value_counts()"
   ]
  },
  {
   "cell_type": "code",
   "execution_count": 88,
   "id": "f61c30fb-76b8-4832-bdde-25548c69d61d",
   "metadata": {},
   "outputs": [
    {
     "data": {
      "text/plain": [
       "High LDL Cholesterol\n",
       "No     3608\n",
       "Yes    3459\n",
       "Name: count, dtype: int64"
      ]
     },
     "execution_count": 88,
     "metadata": {},
     "output_type": "execute_result"
    }
   ],
   "source": [
    "data[\"High LDL Cholesterol\"].value_counts()"
   ]
  },
  {
   "cell_type": "code",
   "execution_count": 90,
   "id": "fb1b427e-ea3a-4824-ab87-3f9a97492e86",
   "metadata": {},
   "outputs": [
    {
     "data": {
      "text/plain": [
       "Alcohol Consumption\n",
       "Medium    2391\n",
       "Low       2371\n",
       "High      2305\n",
       "Name: count, dtype: int64"
      ]
     },
     "execution_count": 90,
     "metadata": {},
     "output_type": "execute_result"
    }
   ],
   "source": [
    "data[\"Alcohol Consumption\"].value_counts()"
   ]
  },
  {
   "cell_type": "code",
   "execution_count": 92,
   "id": "e599e722-8f20-4b9e-95d5-f49c205c44d7",
   "metadata": {},
   "outputs": [
    {
     "data": {
      "text/plain": [
       "Alcohol Consumption\n",
       "Medium    2391\n",
       "Low       2371\n",
       "High      2305\n",
       "Name: count, dtype: int64"
      ]
     },
     "execution_count": 92,
     "metadata": {},
     "output_type": "execute_result"
    }
   ],
   "source": [
    "data[\"Alcohol Consumption\"].value_counts()"
   ]
  },
  {
   "cell_type": "code",
   "execution_count": 94,
   "id": "6f23bffb-1b01-47fc-ba94-a188beaad91e",
   "metadata": {},
   "outputs": [
    {
     "data": {
      "text/plain": [
       "Sugar Consumption\n",
       "Low       2403\n",
       "High      2379\n",
       "Medium    2285\n",
       "Name: count, dtype: int64"
      ]
     },
     "execution_count": 94,
     "metadata": {},
     "output_type": "execute_result"
    }
   ],
   "source": [
    "data[\"Sugar Consumption\"].value_counts()"
   ]
  },
  {
   "cell_type": "code",
   "execution_count": 96,
   "id": "ea0c2eb0-417d-49cf-8a21-f92903413d9a",
   "metadata": {},
   "outputs": [
    {
     "data": {
      "text/plain": [
       "Heart Disease Status\n",
       "No     5632\n",
       "Yes    1435\n",
       "Name: count, dtype: int64"
      ]
     },
     "execution_count": 96,
     "metadata": {},
     "output_type": "execute_result"
    }
   ],
   "source": [
    "data[\"Heart Disease Status\"].value_counts()"
   ]
  },
  {
   "cell_type": "code",
   "execution_count": 98,
   "id": "0b35dc3c-91c2-4102-a606-764a92cd9b9c",
   "metadata": {},
   "outputs": [],
   "source": [
    "# Import new data set in to new Excel file\n",
    "data.to_excel('Data.xlsx', index=False)"
   ]
  },
  {
   "cell_type": "code",
   "execution_count": null,
   "id": "554c85bf-c23d-4bb3-bb05-ef220d15be0d",
   "metadata": {},
   "outputs": [],
   "source": []
  }
 ],
 "metadata": {
  "kernelspec": {
   "display_name": "Python 3 (ipykernel)",
   "language": "python",
   "name": "python3"
  },
  "language_info": {
   "codemirror_mode": {
    "name": "ipython",
    "version": 3
   },
   "file_extension": ".py",
   "mimetype": "text/x-python",
   "name": "python",
   "nbconvert_exporter": "python",
   "pygments_lexer": "ipython3",
   "version": "3.12.4"
  }
 },
 "nbformat": 4,
 "nbformat_minor": 5
}
